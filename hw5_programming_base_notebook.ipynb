{
 "cells": [
  {
   "cell_type": "code",
   "execution_count": 1,
   "metadata": {
    "colab": {},
    "colab_type": "code",
    "id": "nSttyGQTLp2u"
   },
   "outputs": [],
   "source": [
    "#do not change\n",
    "import sys\n",
    "import os\n",
    "from time import time\n",
    "%matplotlib inline\n",
    "from urllib.request import urlopen\n",
    "import matplotlib.pyplot as plt\n",
    "from sklearn.decomposition import PCA\n",
    "import numpy as np\n",
    "#from scipy.misc import imsave\n",
    "import math\n",
    "  \n",
    "def load_mnist():\n",
    "    images_url = 'https://github.com/guptashvm/Data/blob/master/data/train-images-idx3-ubyte?raw=true'\n",
    "    with urlopen(images_url) as urlopened:\n",
    "      fd = urlopened.read()\n",
    "      loaded = np.frombuffer(fd,dtype=np.uint8)\n",
    "      trX = loaded[16:].reshape((60000,28*28)).astype(float)\n",
    " \n",
    "    labels_url = 'https://github.com/guptashvm/Data/blob/master/data/train-labels-idx1-ubyte?raw=true'\n",
    "    with urlopen(labels_url) as urlopened:\n",
    "      fd = urlopened.read()\n",
    "      loaded = np.frombuffer(fd,dtype=np.uint8)\n",
    "      trY = loaded[8:].reshape((60000))\n",
    " \n",
    "    trY = np.asarray(trY)\n",
    " \n",
    "    X = trX / 255.\n",
    "    y = trY\n",
    " \n",
    "    subset  = [i for i, t in enumerate(y) if t in [1, 0, 2, 3]]\n",
    "    X, y = X.astype('float32')[subset], y[subset]\n",
    "    return X[:1000], y[:1000]"
   ]
  },
  {
   "cell_type": "markdown",
   "metadata": {
    "colab_type": "text",
    "id": "4n1EPKtdLp20"
   },
   "source": [
    "Run the following code to load the data we need. Here, **X** is the array of images, **y** is the array of labels, and **X2d** is the array of projections of the images into two-dimensional space using PCA. The two-dimensional scatterplot of the top two principal components of the images is displayed, where the color of each point represents its label. "
   ]
  },
  {
   "cell_type": "code",
   "execution_count": 2,
   "metadata": {
    "colab": {
     "base_uri": "https://localhost:8080/",
     "height": 269
    },
    "colab_type": "code",
    "id": "2yULFRTMLp23",
    "outputId": "c5701b02-984a-45e4-b2dd-3c0d52be12dc"
   },
   "outputs": [
    {
     "data": {
      "image/png": "[encoded data removed]",
      "text/plain": [
       "<Figure size 432x288 with 1 Axes>"
      ]
     },
     "metadata": {
      "needs_background": "light"
     },
     "output_type": "display_data"
    }
   ],
   "source": [
    "X, y = load_mnist()\n",
    "pca = PCA(n_components=2)\n",
    "pca.fit(X)\n",
    "X2d = X.dot(pca.components_.T)\n",
    "\n",
    "def plot_with_colors(Xs, ys):\n",
    "  for i, _ in enumerate(ys):\n",
    "    if ys[i] == 0:\n",
    "      plt.plot([Xs[i, 0]], [Xs[i, 1]], 'r.')\n",
    "    elif ys[i] == 1:\n",
    "      plt.plot([Xs[i, 0]], [Xs[i, 1]], 'b.')\n",
    "    elif ys[i] == 2:\n",
    "      plt.plot([Xs[i, 0]], [Xs[i, 1]], 'g.')\n",
    "    elif ys[i] == 3:\n",
    "      plt.plot([Xs[i, 0]], [Xs[i, 1]], 'y.')\n",
    "  plt.show()\n",
    "\n",
    "plot_with_colors(X2d, y)"
   ]
  },
  {
   "cell_type": "markdown",
   "metadata": {
    "colab_type": "text",
    "deletable": false,
    "editable": false,
    "id": "kSmyuJ-8Lp3B"
   },
   "source": [
    "(a) Implement the standard k-means algorithm. Please complete the function __kmeans__ defined below. You are NOT allowed to use any existing code of **kmeans** for this problem."
   ]
  },
  {
   "cell_type": "code",
   "execution_count": 19,
   "metadata": {
    "colab": {},
    "colab_type": "code",
    "id": "b082bdEkLp3D"
   },
   "outputs": [],
   "source": [
    "def kmeans(X, k = 4, max_iter = 500, random_state=0):\n",
    "  \"\"\"\n",
    "  Inputs:\n",
    "      X: input data matrix, numpy array with shape (n * d), n: number of data points, d: feature dimension\n",
    "      k: number of clusters\n",
    "      max_iters: maximum iterations\n",
    "  Output:\n",
    "      clustering label for each data point\n",
    "  \"\"\"\n",
    "  assert len(X) > k, 'illegal inputs'\n",
    "  np.random.seed(random_state)\n",
    "\n",
    "  # randomly select k data points as centers\n",
    "  idx = np.random.choice(len(X), k, replace=False)\n",
    "  centers = X[idx]\n",
    "\n",
    "  # please complete the following code: \n",
    "\n",
    "  from scipy.spatial import distance\n",
    "  for i in range(max_iter):\n",
    "      H = distance.cdist(X, centers, 'euclidean')\n",
    "      # update clustering labels \n",
    "      # update new centers\n",
    "\n",
    "  return labels"
   ]
  },
  {
   "cell_type": "markdown",
   "metadata": {
    "colab_type": "text",
    "deletable": false,
    "editable": false,
    "id": "N2RwU_5ULp3J"
   },
   "source": [
    "(b) Run your **kmeans** function on the dataset (of the top two PCA components given by array X2d). Set the number of clusters to 4. Visualize the result by coloring the 2D points in (a) according to their **clustering labels** returned by your **kmeans** algorithm. Because **kmeans** is sensitive to initialization, repeat your **kmeans** at least 5 times with different random initializations and show the plot of each initialization.\n",
    "\n",
    "To quantitatively evaluate the clustering performance, we evaluate the $\\textit{unsupervised clustering accuracy}$, which can be written as follows,\n",
    "$$\n",
    "\\text{accuracy} = \\max_{\\mathcal M} \\frac{\\sum_{i=1}^{n} \\mathbb{I}(y_i = \\mathcal M(z_i))}{n}, n = 1000,\n",
    "$$\n",
    "where $y_i$ is the ground-truth label, $z_i$ is the cluster assignment produced by the algorithm,\n",
    "and $\\mathcal M$ ranges over all possible one-to-one mapping between clusters and labels and $\\mathbb{I}(x)$\n",
    "is a indicator function ($\\mathbb{I}(x) = 1 \\text{if}~x=1; \\text{otherwise} ~0$).\n",
    "Please use the __accuracy_score__ function defined below to calculate the accuracy.\n",
    "Report the best clustering accuracy you get out of 10 random initializations. "
   ]
  },
  {
   "cell_type": "code",
   "execution_count": 20,
   "metadata": {
    "colab": {},
    "colab_type": "code",
    "id": "pY4ChBqh7Zm3"
   },
   "outputs": [],
   "source": [
    "# do not change\n",
    "def accuracy_score(y_true, y_pred):\n",
    "    \"\"\"\n",
    "    Calculate clustering accuracy. \n",
    "        y_true: true labels, numpy.array with shape `(n_samples,)`\n",
    "        y_pred: predicted labels, numpy.array with shape `(n_samples,)`\n",
    "    # Return\n",
    "        accuracy, in [0,1]\n",
    "    \"\"\"\n",
    "    y_true = np.squeeze(y_true)\n",
    "    y_pred = np.squeeze(y_pred)\n",
    "    assert y_true.shape == y_pred.shape, 'illegal inputs'\n",
    " \n",
    "    y_true = y_true.astype(np.int64)\n",
    "    assert y_pred.size == y_true.size\n",
    "    D = max(y_pred.max(), y_true.max()) + 1\n",
    "    w = np.zeros((D, D), dtype=np.int64)\n",
    "    for i in range(y_pred.size):\n",
    "        w[y_pred[i], y_true[i]] += 1\n",
    "    from scipy.optimize import linear_sum_assignment\n",
    "    row_ind, col_ind = linear_sum_assignment(w.max() - w)\n",
    "    return sum([w[row_ind[i], col_ind[i]] for i in range(len(row_ind))]) * 1.0 / y_pred.size"
   ]
  },
  {
   "cell_type": "code",
   "execution_count": 0,
   "metadata": {
    "colab": {},
    "colab_type": "code",
    "id": "s73rL4pgLp3N"
   },
   "outputs": [],
   "source": [
    "# your code here"
   ]
  },
  {
   "cell_type": "markdown",
   "metadata": {
    "colab_type": "text",
    "deletable": false,
    "editable": false,
    "id": "7WcvjYayLp3w"
   },
   "source": [
    "We have been testing $\\textit{k}$-means on the top two principal components for the purpose of visualization. \n",
    "Please run $\\textit{k}$-means on the  (784 dimensional) original image dataset (again using 4 clusters). \n",
    "Try at least 10 different random initializations and report the best accuracy as above."
   ]
  },
  {
   "cell_type": "code",
   "execution_count": 0,
   "metadata": {
    "colab": {},
    "colab_type": "code",
    "id": "yNJ0eX4sLp3z"
   },
   "outputs": [],
   "source": [
    "# enter your code here"
   ]
  }
 ],
 "metadata": {
  "celltoolbar": "Edit Metadata",
  "colab": {
   "name": "HW5_Base (5).ipynb",
   "provenance": []
  },
  "kernelspec": {
   "display_name": "Python 3",
   "language": "python",
   "name": "python3"
  },
  "language_info": {
   "codemirror_mode": {
    "name": "ipython",
    "version": 3
   },
   "file_extension": ".py",
   "mimetype": "text/x-python",
   "name": "python",
   "nbconvert_exporter": "python",
   "pygments_lexer": "ipython3",
   "version": "3.7.6"
  }
 },
 "nbformat": 4,
 "nbformat_minor": 1
}
